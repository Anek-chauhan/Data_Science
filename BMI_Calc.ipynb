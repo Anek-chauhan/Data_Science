{
 "cells": [
  {
   "cell_type": "code",
   "execution_count": 5,
   "id": "daa039a9-93cf-4531-b49d-24ddc48ce7e7",
   "metadata": {},
   "outputs": [
    {
     "name": "stdin",
     "output_type": "stream",
     "text": [
      "Enter the Weight in Kg 55\n",
      "Enter the Height in Mtr 55\n"
     ]
    },
    {
     "data": {
      "text/plain": [
       "1.0"
      ]
     },
     "execution_count": 5,
     "metadata": {},
     "output_type": "execute_result"
    }
   ],
   "source": [
    "#BMI Calculator\n",
    "def Calculate_BMI(Weight,Height):\n",
    "    BMI=Weight/height\n",
    "    return BMI\n",
    "Weight=int(input(\"Enter the Weight in Kg\"))\n",
    "height=int(input(\"Enter the Height in Mtr\"))\n",
    "Calculate_BMI(Weight,height)"
   ]
  },
  {
   "cell_type": "code",
   "execution_count": null,
   "id": "fcacb30a-b3cd-41dd-b0a3-993f3a4c3141",
   "metadata": {},
   "outputs": [],
   "source": []
  },
  {
   "cell_type": "code",
   "execution_count": null,
   "id": "a4b1ff55-0f4f-418f-a39c-dcf20e001497",
   "metadata": {},
   "outputs": [],
   "source": []
  }
 ],
 "metadata": {
  "kernelspec": {
   "display_name": "Python 3 (ipykernel)",
   "language": "python",
   "name": "python3"
  },
  "language_info": {
   "codemirror_mode": {
    "name": "ipython",
    "version": 3
   },
   "file_extension": ".py",
   "mimetype": "text/x-python",
   "name": "python",
   "nbconvert_exporter": "python",
   "pygments_lexer": "ipython3",
   "version": "3.11.4"
  }
 },
 "nbformat": 4,
 "nbformat_minor": 5
}
