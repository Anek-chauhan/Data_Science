{
 "cells": [
  {
   "cell_type": "code",
   "execution_count": null,
   "id": "01e48e83-b775-479d-9027-b069536bac3b",
   "metadata": {},
   "outputs": [],
   "source": []
  },
  {
   "cell_type": "code",
   "execution_count": 2,
   "id": "a9338dbe-f5e1-49cd-a089-0c4d671f2f30",
   "metadata": {},
   "outputs": [
    {
     "ename": "IndentationError",
     "evalue": "unindent does not match any outer indentation level (<tokenize>, line 3)",
     "output_type": "error",
     "traceback": [
      "\u001b[1;36m  File \u001b[1;32m<tokenize>:3\u001b[1;36m\u001b[0m\n\u001b[1;33m    for str in str1:\u001b[0m\n\u001b[1;37m    ^\u001b[0m\n\u001b[1;31mIndentationError\u001b[0m\u001b[1;31m:\u001b[0m unindent does not match any outer indentation level\n"
     ]
    }
   ],
   "source": [
    "def Count_volwels(str1):\n",
    "    Count=0\n",
    "   for str in str1: \n",
    "    if(str==\"a\" or str==\"e\" or str==\"i\" or str==\"o\" or str==\"u\" or str==\"A\" or str==\"E\" or str==\"I\" or str ==\"O\" or str==\"U\"):\n",
    "        Count=Count+1\n",
    "    return Count    \n"
   ]
  },
  {
   "cell_type": "code",
   "execution_count": null,
   "id": "a0edd3cb-0cbb-423f-bcbe-8ad0c89142b2",
   "metadata": {},
   "outputs": [],
   "source": [
    "Count_volwels(Anek)"
   ]
  },
  {
   "cell_type": "code",
   "execution_count": null,
   "id": "2ec1aa3e-87e8-4517-9292-09741de53577",
   "metadata": {},
   "outputs": [],
   "source": [
    "Count_volwels(\"Anek\")"
   ]
  },
  {
   "cell_type": "code",
   "execution_count": null,
   "id": "6d21599e-1635-4b47-b967-b0cc5d463c6c",
   "metadata": {},
   "outputs": [],
   "source": [
    "Count_volwels(\"Anek\")"
   ]
  },
  {
   "cell_type": "code",
   "execution_count": null,
   "id": "8bce3e45-9347-4f0d-9508-3118f376725e",
   "metadata": {},
   "outputs": [],
   "source": [
    "Count_volwels(\"Anek\")"
   ]
  },
  {
   "cell_type": "code",
   "execution_count": null,
   "id": "fa1010bd-cd26-4079-896d-614cea44f5f3",
   "metadata": {},
   "outputs": [],
   "source": [
    "Count_volwels(\"Anek\")"
   ]
  },
  {
   "cell_type": "code",
   "execution_count": 3,
   "id": "62188604-f848-43f3-9d30-ab6a4f610511",
   "metadata": {},
   "outputs": [],
   "source": [
    "def Count_volwels(str1):\n",
    "    Count=0\n",
    "    for str in str1: \n",
    "        if(str==\"a\" or str==\"e\" or str==\"i\" or str==\"o\" or str==\"u\" or str==\"A\" or str==\"E\" or str==\"I\" or str ==\"O\" or str==\"U\"):\n",
    "            Count=Count+1\n",
    "    return Count    "
   ]
  },
  {
   "cell_type": "code",
   "execution_count": 4,
   "id": "fccd84d9-2b54-44c8-a62d-3f52e92ad54c",
   "metadata": {},
   "outputs": [
    {
     "data": {
      "text/plain": [
       "2"
      ]
     },
     "execution_count": 4,
     "metadata": {},
     "output_type": "execute_result"
    }
   ],
   "source": [
    "Count_volwels(\"Anek\")"
   ]
  },
  {
   "cell_type": "code",
   "execution_count": 5,
   "id": "b44b2714-8048-4319-b3c5-3602463525cc",
   "metadata": {},
   "outputs": [
    {
     "data": {
      "text/plain": [
       "2"
      ]
     },
     "execution_count": 5,
     "metadata": {},
     "output_type": "execute_result"
    }
   ],
   "source": [
    "Count_volwels(\"Palak\")"
   ]
  },
  {
   "cell_type": "code",
   "execution_count": null,
   "id": "ebb44ca0-7e25-4bff-8115-4d6b8db5c5ab",
   "metadata": {},
   "outputs": [],
   "source": []
  }
 ],
 "metadata": {
  "kernelspec": {
   "display_name": "Python 3 (ipykernel)",
   "language": "python",
   "name": "python3"
  },
  "language_info": {
   "codemirror_mode": {
    "name": "ipython",
    "version": 3
   },
   "file_extension": ".py",
   "mimetype": "text/x-python",
   "name": "python",
   "nbconvert_exporter": "python",
   "pygments_lexer": "ipython3",
   "version": "3.11.4"
  }
 },
 "nbformat": 4,
 "nbformat_minor": 5
}
