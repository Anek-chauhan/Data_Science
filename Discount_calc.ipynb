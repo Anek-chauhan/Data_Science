{
 "cells": [
  {
   "cell_type": "code",
   "execution_count": 3,
   "id": "0fff79b7-2ddc-4a92-afc0-2a3e5251f839",
   "metadata": {},
   "outputs": [
    {
     "name": "stdin",
     "output_type": "stream",
     "text": [
      "Enter the price 100\n",
      "Enter the Discount 15\n"
     ]
    },
    {
     "data": {
      "text/plain": [
       "85.0"
      ]
     },
     "execution_count": 3,
     "metadata": {},
     "output_type": "execute_result"
    }
   ],
   "source": [
    "def find_price(price,discount=10):\n",
    "    dis=(price*discount)/100\n",
    "    final_price=price-dis\n",
    "    return final_price\n",
    "price=int(input(\"Enter the price\"))\n",
    "discount=int(input(\"Enter the Discount\"))\n",
    "find_price(price,discount)"
   ]
  },
  {
   "cell_type": "code",
   "execution_count": null,
   "id": "fac1535d-d590-4225-861b-a910dd858c60",
   "metadata": {},
   "outputs": [],
   "source": []
  }
 ],
 "metadata": {
  "kernelspec": {
   "display_name": "Python 3 (ipykernel)",
   "language": "python",
   "name": "python3"
  },
  "language_info": {
   "codemirror_mode": {
    "name": "ipython",
    "version": 3
   },
   "file_extension": ".py",
   "mimetype": "text/x-python",
   "name": "python",
   "nbconvert_exporter": "python",
   "pygments_lexer": "ipython3",
   "version": "3.11.4"
  }
 },
 "nbformat": 4,
 "nbformat_minor": 5
}
