{
 "cells": [
  {
   "cell_type": "code",
   "execution_count": null,
   "id": "dbb2e565-9c97-43cb-a967-da5acf0bb561",
   "metadata": {},
   "outputs": [],
   "source": [
    "#What is the difference between a function and a method in Python?\n",
    "Function is a reusable component inside within in a python programme where is \n",
    "A method is a function that is associated with an object and is defined within a class.\n",
    "example :\n",
    "function \n",
    "\n",
    "def example():    <---------------defining a function\n",
    "    print(\"I am a function\")\n",
    "example()         <---------------calling a funtion    \n",
    "\n",
    "output:\n",
    "\n",
    "I am a function\n",
    "\n",
    "Method:\n",
    "\n",
    "class test:            <--------------definig a class\n",
    "    def example():     <--------------definig a function\n",
    "        print(\"I am a method\")\n",
    "Test=test()\n",
    "print(Test.example())  <--------------method calling\n"
   ]
  },
  {
   "cell_type": "code",
   "execution_count": null,
   "id": "fbbfaa61-ef16-4a75-8a1a-9de30bd1e793",
   "metadata": {},
   "outputs": [],
   "source": []
  }
 ],
 "metadata": {
  "kernelspec": {
   "display_name": "Python 3 (ipykernel)",
   "language": "python",
   "name": "python3"
  },
  "language_info": {
   "codemirror_mode": {
    "name": "ipython",
    "version": 3
   },
   "file_extension": ".py",
   "mimetype": "text/x-python",
   "name": "python",
   "nbconvert_exporter": "python",
   "pygments_lexer": "ipython3",
   "version": "3.13.1"
  }
 },
 "nbformat": 4,
 "nbformat_minor": 5
}
