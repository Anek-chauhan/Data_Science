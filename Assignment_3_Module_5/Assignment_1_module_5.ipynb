{
 "cells": [
  {
   "cell_type": "code",
   "execution_count": null,
   "id": "dbb2e565-9c97-43cb-a967-da5acf0bb561",
   "metadata": {},
   "outputs": [],
   "source": [
    "# 1 What is the difference between a function and a method in Python?\n",
    "Function is a reusable component inside within in a python programme where is \n",
    "A method is a function that is associated with an object and is defined within a class.\n",
    "example :\n",
    "function \n",
    "\n",
    "def example():    <---------------defining a function\n",
    "    print(\"I am a function\")\n",
    "example()         <---------------calling a funtion    \n",
    "\n",
    "output:\n",
    "\n",
    "I am a function\n",
    "\n",
    "Method:\n",
    "\n",
    "class test:            <--------------definig a class\n",
    "    def example():     <--------------definig a function\n",
    "        print(\"I am a method\")\n",
    "Test=test()\n",
    "print(Test.example())  <--------------method calling\n"
   ]
  },
  {
   "cell_type": "code",
   "execution_count": null,
   "id": "fbbfaa61-ef16-4a75-8a1a-9de30bd1e793",
   "metadata": {},
   "outputs": [],
   "source": [
    "#2. Explain the concept of function arguments and parameters in Python.\n",
    "Function Arguments and parameters can be called as same things but in we can diffrectiate between both we can say that\n",
    "parameters can be variable passed after function is defined that will hold the data which was passed during function called\n",
    "where as function arguments can be the data that is paased during function call \n",
    "\n",
    "Ans:\n",
    "\n",
    "def example(name):   <------------- defining a function and passing a defing a parameter\n",
    "    print(name)\n",
    "\n",
    "example(\"Anek\")      <------------- calling a function and passing an argument"
   ]
  },
  {
   "cell_type": "code",
   "execution_count": null,
   "id": "6d558de0-02d0-400a-8f12-3134c7c0956b",
   "metadata": {},
   "outputs": [],
   "source": [
    "#3. What are the different ways to define and call a function in Python?\n",
    "Defining a function can be explained as naming a fuction and writing funtionalities to it where as function calling \n",
    "is the process to call that fucntion so that it's functionalities can be used in the spefic code \n",
    "Ans:\n",
    "\n",
    "def example(name):   <------------- defining a function \n",
    "    print(name)\n",
    "\n",
    "example(\"Anek\")      <------------- calling a function "
   ]
  },
  {
   "cell_type": "code",
   "execution_count": null,
   "id": "fb108a44-0a35-4622-a716-e90f885e9e6c",
   "metadata": {},
   "outputs": [],
   "source": [
    "#4. What is the purpose of the `return` statement in a Python function?\n",
    "Retrun satatement is used to return final value of a function it can be utlized for further calcutions in the progtamme\n",
    "example:\n",
    "\n",
    "def example(a,b):   <------------- defining a function \n",
    "    return a+b      <-------------return statement \n",
    "\n",
    "x=example(2,3)<------------- calling a function \n",
    "print(x)"
   ]
  },
  {
   "cell_type": "code",
   "execution_count": null,
   "id": "315febab-85fc-448a-a9bb-3f10377bc1a2",
   "metadata": {},
   "outputs": [],
   "source": [
    "#5. What are iterators in Python and how do they differ from iterables?\n"
   ]
  }
 ],
 "metadata": {
  "kernelspec": {
   "display_name": "Python 3 (ipykernel)",
   "language": "python",
   "name": "python3"
  },
  "language_info": {
   "codemirror_mode": {
    "name": "ipython",
    "version": 3
   },
   "file_extension": ".py",
   "mimetype": "text/x-python",
   "name": "python",
   "nbconvert_exporter": "python",
   "pygments_lexer": "ipython3",
   "version": "3.13.1"
  }
 },
 "nbformat": 4,
 "nbformat_minor": 5
}
