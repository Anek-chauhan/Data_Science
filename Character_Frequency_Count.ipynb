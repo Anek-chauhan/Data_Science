{
 "cells": [
  {
   "cell_type": "code",
   "execution_count": null,
   "id": "05407ff0-190e-4dbf-b7e0-c69d5cb7b460",
   "metadata": {},
   "outputs": [],
   "source": [
    "input_string=\"aaabbbcccdddadeee\"\n",
    "Count=0\n",
    "Output_String=\"\"\n",
    "set_coll= set()\n",
    "Final_String=\"\"\n",
    "for i in range(0,len(input_string)):\n",
    "    Count=0\n",
    "    Char=input_string[i]\n",
    "    if Char not in set_coll:\n",
    "        for val in input_string:\n",
    "            if(val == Char):\n",
    "                Count=Count+1;       \n",
    "        Final_String += Char + str(Count)\n",
    "        set_coll.add(Char)\n",
    "Output_String += Final_String\n",
    "print(Output_String)"
   ]
  }
 ],
 "metadata": {
  "kernelspec": {
   "display_name": "Python 3 (ipykernel)",
   "language": "python",
   "name": "python3"
  },
  "language_info": {
   "codemirror_mode": {
    "name": "ipython",
    "version": 3
   },
   "file_extension": ".py",
   "mimetype": "text/x-python",
   "name": "python",
   "nbconvert_exporter": "python",
   "pygments_lexer": "ipython3",
   "version": "3.11.4"
  }
 },
 "nbformat": 4,
 "nbformat_minor": 5
}
