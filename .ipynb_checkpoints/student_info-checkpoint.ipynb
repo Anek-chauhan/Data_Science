{
 "cells": [
  {
   "cell_type": "code",
   "execution_count": 2,
   "id": "a7b83196-5a3d-4df3-8c1b-86b43f3d1bc2",
   "metadata": {},
   "outputs": [
    {
     "name": "stdin",
     "output_type": "stream",
     "text": [
      "Enter the name Anek\n",
      "Enter the age 24\n",
      "Enter the Course MCA\n"
     ]
    },
    {
     "name": "stdout",
     "output_type": "stream",
     "text": [
      "Name: Anek\n",
      "Age: 24\n",
      "Cousre: MCA\n"
     ]
    }
   ],
   "source": [
    "def student_info (name,age,course):\n",
    "    print(\"Name:\",name)\n",
    "    print(\"Age:\",age)\n",
    "    print(\"Cousre:\",course)\n",
    "name=input(\"Enter the name\")\n",
    "age=input(\"Enter the age\")\n",
    "course=input(\"Enter the Course\")\n",
    "student_info(name,age,course)"
   ]
  },
  {
   "cell_type": "code",
   "execution_count": null,
   "id": "65df3192-b806-4c3a-84fa-4619a1bec1f5",
   "metadata": {},
   "outputs": [],
   "source": []
  }
 ],
 "metadata": {
  "kernelspec": {
   "display_name": "Python 3 (ipykernel)",
   "language": "python",
   "name": "python3"
  },
  "language_info": {
   "codemirror_mode": {
    "name": "ipython",
    "version": 3
   },
   "file_extension": ".py",
   "mimetype": "text/x-python",
   "name": "python",
   "nbconvert_exporter": "python",
   "pygments_lexer": "ipython3",
   "version": "3.11.4"
  }
 },
 "nbformat": 4,
 "nbformat_minor": 5
}
