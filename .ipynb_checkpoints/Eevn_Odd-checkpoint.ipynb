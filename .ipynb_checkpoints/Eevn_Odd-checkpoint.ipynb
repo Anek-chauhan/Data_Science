{
 "cells": [
  {
   "cell_type": "code",
   "execution_count": 6,
   "id": "b4d84834-6498-438f-915b-1a9857a003b3",
   "metadata": {},
   "outputs": [],
   "source": [
    "def ChecK_int_odd(num):\n",
    "    if(num%2==0):\n",
    "        return True\n",
    "    else:\n",
    "        return False"
   ]
  },
  {
   "cell_type": "code",
   "execution_count": 7,
   "id": "5cc20bce-c4d3-4c01-a609-d6977f7cca62",
   "metadata": {},
   "outputs": [
    {
     "data": {
      "text/plain": [
       "True"
      ]
     },
     "execution_count": 7,
     "metadata": {},
     "output_type": "execute_result"
    }
   ],
   "source": [
    "ChecK_int_odd(20)"
   ]
  },
  {
   "cell_type": "code",
   "execution_count": 8,
   "id": "68e0292a-58ec-4e27-be98-3a9e8721b972",
   "metadata": {},
   "outputs": [
    {
     "data": {
      "text/plain": [
       "False"
      ]
     },
     "execution_count": 8,
     "metadata": {},
     "output_type": "execute_result"
    }
   ],
   "source": [
    "ChecK_int_odd(55)"
   ]
  },
  {
   "cell_type": "code",
   "execution_count": null,
   "id": "eb621468-abb7-4b89-88dd-a9622f78901e",
   "metadata": {},
   "outputs": [],
   "source": []
  },
  {
   "cell_type": "code",
   "execution_count": null,
   "id": "b15be11a-3a76-42f7-b17b-05869d07305e",
   "metadata": {},
   "outputs": [],
   "source": []
  },
  {
   "cell_type": "code",
   "execution_count": 9,
   "id": "e6e813c2-c4a5-450b-b1a3-f4486200ccaf",
   "metadata": {},
   "outputs": [
    {
     "data": {
      "text/plain": [
       "False"
      ]
     },
     "execution_count": 9,
     "metadata": {},
     "output_type": "execute_result"
    }
   ],
   "source": [
    "ChecK_int_odd(55)"
   ]
  },
  {
   "cell_type": "code",
   "execution_count": null,
   "id": "c821b9fa-c65c-4352-8ff2-cd9677bc7a1a",
   "metadata": {},
   "outputs": [],
   "source": []
  },
  {
   "cell_type": "code",
   "execution_count": null,
   "id": "34486f78-c119-4b4a-8c9e-8a30ed6a3f54",
   "metadata": {},
   "outputs": [],
   "source": []
  }
 ],
 "metadata": {
  "kernelspec": {
   "display_name": "Python 3 (ipykernel)",
   "language": "python",
   "name": "python3"
  },
  "language_info": {
   "codemirror_mode": {
    "name": "ipython",
    "version": 3
   },
   "file_extension": ".py",
   "mimetype": "text/x-python",
   "name": "python",
   "nbconvert_exporter": "python",
   "pygments_lexer": "ipython3",
   "version": "3.11.4"
  }
 },
 "nbformat": 4,
 "nbformat_minor": 5
}
